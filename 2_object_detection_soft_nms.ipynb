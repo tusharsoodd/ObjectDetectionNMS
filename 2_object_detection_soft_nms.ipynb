{
 "cells": [
  {
   "cell_type": "code",
   "execution_count": 1,
   "metadata": {
    "pycharm": {
     "is_executing": true
    }
   },
   "outputs": [],
   "source": [
    "import numpy as np"
   ]
  },
  {
   "cell_type": "markdown",
   "metadata": {},
   "source": [
    "# Soft NMS Implementation"
   ]
  },
  {
   "cell_type": "code",
   "execution_count": 2,
   "metadata": {},
   "outputs": [],
   "source": [
    "# IOU function",
    "def iou(box1, box2):\n",
    "    [box1_x1, box1_y1, box1_x2, box1_y2] = box1\n",
    "    [box2_x1, box2_y1, box2_x2, box2_y2] = box2\n",
    "    xi1 = max(box1_x1, box2_x1)\n",
    "    yi1 = max(box1_y1, box2_y1)\n",
    "    xi2 = min(box1_x2, box2_x2)\n",
    "    yi2 = min(box1_y2, box2_y2)\n",
    "    inter_width = max(0, yi2 - yi1)\n",
    "    inter_height = max(0, xi2 - xi1)\n",
    "    inter_area = inter_width * inter_height\n",
    "    box1_area = (box1_x2 - box1_x1) * ((box1_y2 - box1_y1))\n",
    "    box2_area = (box2_x2 - box2_x1) * ((box2_y2 - box2_y1))\n",
    "    union_area = box1_area + box2_area - inter_area\n",
    "    iou = inter_area / union_area\n",
    "    return iou"
   ]
  },
  {
   "cell_type": "markdown",
   "metadata": {},
   "source": [
    "Soft NMS algorithm "
   ]
  },
  {
   "cell_type": "code",
   "execution_count": 4,
   "metadata": {},
   "outputs": [],
   "source": [
    "boxes = np.array([[200, 200, 400, 400], [220, 220, 420, 420], [200, 240, 400, 440], [240, 200, 440, 400], [1, 1, 2, 2]], dtype=np.float32)\n",
    "scores = np.array([0.9, 0.8, 0.7, 0.6, 0.5], dtype=np.float32)\n",
    "\n",
    "def soft_nms1(scores: np.array, boxes: np.array, sigma=0.5):\n",
    "    \"\"\"\n",
    "  # scores - shape (,n) numpy array that contains scores of bounding boxes\n",
    "  # boxes - shape (n,4) numpy array that contains bounding boxes information.\n",
    "  #        Each element in array is a size=4 array of [x1,y1,x2,y2]\n",
    "  #        Where x1,y1 are the bottom left coordinates of bounding boxes,\n",
    "  #        and x2,y2 are the top right coordinates of bounding boxes.\n",
    "  # START of your implementation\n",
    "\n",
    "  # END of your implementation\n",
    "  # new_bbox - shape (n,4) numpy array that contains new bounding boxes information\n",
    "  # new_scores - shape (n,) numpy array that contains new bounding boxes scores\n",
    "  \"\"\"\n",
    "    n = (scores.shape[0])\n",
    "    B = boxes.copy() \n",
    "    D = []\n",
    "    Z = []\n",
    "    while scores.size >= 1:  ##while the scores array is not empty\n",
    "        top_idx = np.argmax(scores)  # assume that the scores and the boxes are aligned at same index\n",
    "        top_box = B[top_idx]\n",
    "\n",
    "        D.append(B[top_idx])  #\n",
    "        Z.append(scores[top_idx])  ##IMPORTANT: \n",
    "        \n",
    "        B = np.delete(B, top_idx,0)\n",
    "        scores=np.delete(scores, top_idx)\n",
    "        \n",
    "        i=0\n",
    "        for box in list(B):\n",
    "            Miou = iou(top_box, box)              \n",
    "            scores[i]=scores[i]*np.exp(-(np.power(Miou, 2)) / sigma) \n",
    "            i+=1    \n",
    "            \n",
    "    Z=np.asarray(Z)\n",
    "    D=np.reshape(D,(n,4))\n",
    "    return D, Z\n",
    "       "
   ]
  },
  {
   "cell_type": "code",
   "execution_count": 5,
   "metadata": {},
   "outputs": [
    {
     "name": "stdout",
     "output_type": "stream",
     "text": [
      "scores[2] = 0.31670862\n",
      "boxes[2] = [220. 220. 420. 420.]\n",
      "scores = [0.9        0.5        0.31670862 0.11392745 0.06270898]\n",
      "boxes = [[200. 200. 400. 400.]\n",
      " [  1.   1.   2.   2.]\n",
      " [220. 220. 420. 420.]\n",
      " [200. 240. 400. 440.]\n",
      " [240. 200. 440. 400.]]\n",
      "scores.shape = (5,)\n",
      "boxes.shape = (5, 4)\n"
     ]
    }
   ],
   "source": [
    "boxes, scores = soft_nms1(scores, boxes, sigma=0.5)\n",
    "                 \n",
    "print(\"scores[2] = \" + str(scores[2]))\n",
    "print(\"boxes[2] = \" + str(boxes[2]))\n",
    "print(\"scores = \" + str(scores))\n",
    "print(\"boxes = \" + str(boxes))\n",
    "print(\"scores.shape = \" + str(scores.shape))\n",
    "print(\"boxes.shape = \" + str(boxes.shape))\n",
    "\n",
    "assert scores.shape == (5,),  \"Wrong shape\"\n",
    "assert boxes.shape == (5, 4), \"Wrong shape\"\n",
    "\n",
    "assert np.isclose(scores[2], 0.31670862), \"Wrong value on scores[2]\"\n",
    "assert np.allclose(boxes[2], [220,220,420,420]), \"Wrong value on boxes[2]\"\n"
   ]
  },
  {
   "cell_type": "code",
   "execution_count": null,
   "metadata": {},
   "outputs": [],
   "source": []
  }
 ],
 "metadata": {
  "kernelspec": {
   "display_name": "Python 3 (ipykernel)",
   "language": "python",
   "name": "python3"
  },
  "language_info": {
   "codemirror_mode": {
    "name": "ipython",
    "version": 3
   },
   "file_extension": ".py",
   "mimetype": "text/x-python",
   "name": "python",
   "nbconvert_exporter": "python",
   "pygments_lexer": "ipython3",
   "version": "3.9.12"
  }
 },
 "nbformat": 4,
 "nbformat_minor": 1
}
